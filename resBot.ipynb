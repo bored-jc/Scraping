{
  "nbformat": 4,
  "nbformat_minor": 0,
  "metadata": {
    "colab": {
      "name": "resBot.ipynb",
      "provenance": [],
      "collapsed_sections": []
    },
    "kernelspec": {
      "name": "python3",
      "display_name": "Python 3"
    }
  },
  "cells": [
    {
      "cell_type": "code",
      "metadata": {
        "id": "Mc1Vf8QIz3VC",
        "colab_type": "code",
        "colab": {}
      },
      "source": [
        "import re\n",
        "import requests\n",
        "import lxml.html as lh\n",
        "import pandas as pd"
      ],
      "execution_count": 0,
      "outputs": []
    },
    {
      "cell_type": "code",
      "metadata": {
        "id": "hLbh9t_AfR3v",
        "colab_type": "code",
        "colab": {
          "base_uri": "https://localhost:8080/",
          "height": 403
        },
        "outputId": "63f99568-4d13-41a8-e950-d2a8762e16af"
      },
      "source": [
        "arr = []\n",
        "for i in range(20):\n",
        "    sid = 199277 + i\n",
        "    loc = str(sid)\n",
        "\n",
        "    url = (\"http://www.gseb.org/522lacigam/sci/B\" +loc[0:2] +\"/\"+loc[2:4]+\"/B\" +loc+ \".html\")\n",
        "    page = requests.get(url)\n",
        "    doc = lh.fromstring(page.content)\n",
        "    tr_elements = doc.xpath('//tr')\n",
        "    col=[]\n",
        "    j = 0\n",
        "    try:\n",
        "        for l in [0, 1, 2, -2]:\n",
        "            for t in tr_elements[l]:\n",
        "                ln =t.text_content()\n",
        "                col.append((ln))\n",
        "    \n",
        "        sn = col[0][9:16]\n",
        "        nm = col[0][22:]\n",
        "        si = col[1][14:20]\n",
        "        br = col[2][7:9]\n",
        "        pr = col[2][-5:]\n",
        "        #tm = col[3][11:14]\n",
        "        #mr = col[3][14:17]\n",
        "        #gr = col[3][-2:]\n",
        "        \n",
        "        line = [sn, nm, si, br, pr]\n",
        "        arr.append(line)\n",
        "        print(i, line)\n",
        "        \n",
        "    except:\n",
        "        print(\"Error at\", sid)\n",
        "    \n",
        "len(arr)"
      ],
      "execution_count": 4,
      "outputs": [
        {
          "output_type": "stream",
          "text": [
            "0 ['B199277', 'DESAI PARVA SAMIR', '18.575', ' B', '97.92']\n",
            "1 ['B199278', 'RANA PINKESH PRAVIN', '18.036', ' B', '65.12']\n",
            "2 ['B199279', 'GUPTA ANUSHRI PRASHANT KUMAR', '18.144', ' A', '73.40']\n",
            "3 ['B199280', 'GAJJAR YUTI PIYUSHKUMAR', '18.575', ' B', '43.59']\n",
            "4 ['B199281', 'SHAH AARYA ABHAY', '18.087', ' A', '52.40']\n",
            "5 ['B199282', 'MEVADA KAVYA ALPESHBHAI', '18.575', ' A', 'e: --']\n",
            "6 ['B199283', 'VYAS HARINA AKSHAYKUMAR', '18.638', ' A', '32.09']\n",
            "7 ['B199284', 'PATEL JASHNA BHAVIN', '18.685', ' A', 'e: --']\n",
            "8 ['B199285', 'PRADHAN RAJA BAIRAGI', '18.036', ' A', 'e: --']\n",
            "9 ['B199286', '. RAKSHA FUTARMAL', '18.142', ' A', '70.30']\n",
            "10 ['B199287', 'BAJAJ HARSHA HEMANT', '18.043', ' A', '79.02']\n",
            "11 ['B199288', 'MODY AARYA LINESH', '18.155', ' A', '37.22']\n",
            "12 ['B199289', 'RANGWALA MARIA MUFZALBHAI', '18.194', ' A', '81.38']\n",
            "13 ['B199290', 'PATEL SAUMYA MANISHBHAI', '18.087', ' A', '73.05']\n",
            "14 ['B199291', 'PANDEY KARTIKEYA PRASHANT', '18.229', ' A', '38.10']\n",
            "15 ['B199292', 'JAIN VANSHIKA RAJ KUMAR', '18.575', ' A', '89.56']\n",
            "16 ['B199293', 'MADHESHIYA VANSHIKA RAJESH', '18.036', ' A', '51.13']\n",
            "17 ['B199294', 'DIGHIYA SANIDHYA RAMJIPRASAD', '18.155', ' A', '92.80']\n",
            "18 ['B199295', 'BASTAWALA NAQIYA SHABBIR', '18.583', ' A', '85.27']\n",
            "19 ['B199296', 'NOORANI AAMINA SHADAB', '18.532', ' A', '85.80']\n"
          ],
          "name": "stdout"
        },
        {
          "output_type": "execute_result",
          "data": {
            "text/plain": [
              "20"
            ]
          },
          "metadata": {
            "tags": []
          },
          "execution_count": 4
        }
      ]
    },
    {
      "cell_type": "code",
      "metadata": {
        "id": "MthIhbIBfUxO",
        "colab_type": "code",
        "colab": {}
      },
      "source": [
        "i = 0\n",
        "matches = 0\n",
        "for i in range(len(arr)):\n",
        "    if arr[0][2] in [\"18.713\", \"18.714\", \"18.715\", \"18.716\"]:\n",
        "        print(\"Found match from MEA: \", arr[ind])\n",
        "        matches += 1\n",
        "\n",
        "print(matches,\" Matches Found \")"
      ],
      "execution_count": 0,
      "outputs": []
    },
    {
      "cell_type": "code",
      "metadata": {
        "id": "OrDb2obGgY6L",
        "colab_type": "code",
        "colab": {}
      },
      "source": [
        "#!pip install xlsxwriter\n",
        "import xlsxwriter \n",
        "\n",
        "workbook = xlsxwriter.Workbook('Result.xlsx') \n",
        "worksheet = workbook.add_worksheet() \n",
        "\n",
        "r = 0\n",
        "c = 0\n",
        "worksheet.write(r, c, \"ID\") \n",
        "worksheet.write(r, c+1, \"Name\") \n",
        "worksheet.write(r, c+2, \"SI\") \n",
        "worksheet.write(r, c+3, \"Group\") \n",
        "worksheet.write(r, c+4, \"PR\") \n",
        "\n",
        "for r in range(len(arr)):\n",
        "    worksheet.write(r+1, c, arr[r][0]) \n",
        "    worksheet.write(r+1, c+1, arr[r][1]) \n",
        "    worksheet.write(r+1, c+2, arr[r][2])\n",
        "    worksheet.write(r+1, c+3, arr[r][3])\n",
        "    worksheet.write(r+1, c+4, arr[r][4])\n",
        "\n",
        "workbook.close()"
      ],
      "execution_count": 0,
      "outputs": []
    },
    {
      "cell_type": "code",
      "metadata": {
        "id": "oyrZWOxigiu_",
        "colab_type": "code",
        "colab": {}
      },
      "source": [
        "from google.colab import files\n",
        "files.download('Result.xlsx')"
      ],
      "execution_count": 0,
      "outputs": []
    },
    {
      "cell_type": "code",
      "metadata": {
        "id": "ZZzMD47-g0z9",
        "colab_type": "code",
        "colab": {}
      },
      "source": [
        ""
      ],
      "execution_count": 0,
      "outputs": []
    }
  ]
}